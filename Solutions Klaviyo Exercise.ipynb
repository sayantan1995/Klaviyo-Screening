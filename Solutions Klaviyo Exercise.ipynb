{
 "cells": [
  {
   "cell_type": "markdown",
   "metadata": {},
   "source": [
    "# Klaviyo Exercise"
   ]
  },
  {
   "cell_type": "code",
   "execution_count": 1,
   "metadata": {},
   "outputs": [],
   "source": [
    "import pandas as pd\n",
    "import numpy as np\n",
    "import matplotlib.pyplot as plt\n",
    "%matplotlib inline\n",
    "import seaborn as sns\n",
    "from scipy import stats\n",
    "from sklearn.metrics import confusion_matrix, accuracy_score, classification_report"
   ]
  },
  {
   "cell_type": "code",
   "execution_count": 2,
   "metadata": {},
   "outputs": [],
   "source": [
    "orders_df = pd.read_csv('screening_exercise_orders_v201810.csv')"
   ]
  },
  {
   "cell_type": "code",
   "execution_count": 3,
   "metadata": {},
   "outputs": [
    {
     "data": {
      "text/html": [
       "<div>\n",
       "<style scoped>\n",
       "    .dataframe tbody tr th:only-of-type {\n",
       "        vertical-align: middle;\n",
       "    }\n",
       "\n",
       "    .dataframe tbody tr th {\n",
       "        vertical-align: top;\n",
       "    }\n",
       "\n",
       "    .dataframe thead th {\n",
       "        text-align: right;\n",
       "    }\n",
       "</style>\n",
       "<table border=\"1\" class=\"dataframe\">\n",
       "  <thead>\n",
       "    <tr style=\"text-align: right;\">\n",
       "      <th></th>\n",
       "      <th>customer_id</th>\n",
       "      <th>gender</th>\n",
       "      <th>date</th>\n",
       "      <th>value</th>\n",
       "      <th>predicted_gender</th>\n",
       "    </tr>\n",
       "  </thead>\n",
       "  <tbody>\n",
       "    <tr>\n",
       "      <th>0</th>\n",
       "      <td>1000</td>\n",
       "      <td>0</td>\n",
       "      <td>2017-01-01 00:11:31</td>\n",
       "      <td>198.5</td>\n",
       "      <td>1</td>\n",
       "    </tr>\n",
       "    <tr>\n",
       "      <th>1</th>\n",
       "      <td>1001</td>\n",
       "      <td>0</td>\n",
       "      <td>2017-01-01 00:29:56</td>\n",
       "      <td>338.0</td>\n",
       "      <td>1</td>\n",
       "    </tr>\n",
       "    <tr>\n",
       "      <th>2</th>\n",
       "      <td>1002</td>\n",
       "      <td>1</td>\n",
       "      <td>2017-01-01 01:30:31</td>\n",
       "      <td>733.0</td>\n",
       "      <td>1</td>\n",
       "    </tr>\n",
       "    <tr>\n",
       "      <th>3</th>\n",
       "      <td>1003</td>\n",
       "      <td>1</td>\n",
       "      <td>2017-01-01 01:34:22</td>\n",
       "      <td>772.0</td>\n",
       "      <td>1</td>\n",
       "    </tr>\n",
       "    <tr>\n",
       "      <th>4</th>\n",
       "      <td>1004</td>\n",
       "      <td>0</td>\n",
       "      <td>2017-01-01 03:11:54</td>\n",
       "      <td>508.0</td>\n",
       "      <td>1</td>\n",
       "    </tr>\n",
       "  </tbody>\n",
       "</table>\n",
       "</div>"
      ],
      "text/plain": [
       "   customer_id  gender                 date  value  predicted_gender\n",
       "0         1000       0  2017-01-01 00:11:31  198.5                 1\n",
       "1         1001       0  2017-01-01 00:29:56  338.0                 1\n",
       "2         1002       1  2017-01-01 01:30:31  733.0                 1\n",
       "3         1003       1  2017-01-01 01:34:22  772.0                 1\n",
       "4         1004       0  2017-01-01 03:11:54  508.0                 1"
      ]
     },
     "execution_count": 3,
     "metadata": {},
     "output_type": "execute_result"
    }
   ],
   "source": [
    "orders_df.head()"
   ]
  },
  {
   "cell_type": "code",
   "execution_count": 4,
   "metadata": {},
   "outputs": [
    {
     "name": "stdout",
     "output_type": "stream",
     "text": [
      "<class 'pandas.core.frame.DataFrame'>\n",
      "RangeIndex: 13471 entries, 0 to 13470\n",
      "Data columns (total 5 columns):\n",
      " #   Column            Non-Null Count  Dtype  \n",
      "---  ------            --------------  -----  \n",
      " 0   customer_id       13471 non-null  int64  \n",
      " 1   gender            13471 non-null  int64  \n",
      " 2   date              13471 non-null  object \n",
      " 3   value             13471 non-null  float64\n",
      " 4   predicted_gender  13471 non-null  int64  \n",
      "dtypes: float64(1), int64(3), object(1)\n",
      "memory usage: 526.3+ KB\n"
     ]
    }
   ],
   "source": [
    "orders_df.info()"
   ]
  },
  {
   "cell_type": "code",
   "execution_count": 5,
   "metadata": {},
   "outputs": [
    {
     "data": {
      "text/html": [
       "<div>\n",
       "<style scoped>\n",
       "    .dataframe tbody tr th:only-of-type {\n",
       "        vertical-align: middle;\n",
       "    }\n",
       "\n",
       "    .dataframe tbody tr th {\n",
       "        vertical-align: top;\n",
       "    }\n",
       "\n",
       "    .dataframe thead th {\n",
       "        text-align: right;\n",
       "    }\n",
       "</style>\n",
       "<table border=\"1\" class=\"dataframe\">\n",
       "  <thead>\n",
       "    <tr style=\"text-align: right;\">\n",
       "      <th></th>\n",
       "      <th>customer_id</th>\n",
       "      <th>gender</th>\n",
       "      <th>value</th>\n",
       "      <th>predicted_gender</th>\n",
       "    </tr>\n",
       "  </thead>\n",
       "  <tbody>\n",
       "    <tr>\n",
       "      <th>count</th>\n",
       "      <td>13471.000000</td>\n",
       "      <td>13471.000000</td>\n",
       "      <td>13471.000000</td>\n",
       "      <td>13471.000000</td>\n",
       "    </tr>\n",
       "    <tr>\n",
       "      <th>mean</th>\n",
       "      <td>5033.693564</td>\n",
       "      <td>0.498256</td>\n",
       "      <td>357.322179</td>\n",
       "      <td>0.642788</td>\n",
       "    </tr>\n",
       "    <tr>\n",
       "      <th>std</th>\n",
       "      <td>2500.179222</td>\n",
       "      <td>0.500016</td>\n",
       "      <td>387.210821</td>\n",
       "      <td>0.479196</td>\n",
       "    </tr>\n",
       "    <tr>\n",
       "      <th>min</th>\n",
       "      <td>1000.000000</td>\n",
       "      <td>0.000000</td>\n",
       "      <td>0.000000</td>\n",
       "      <td>0.000000</td>\n",
       "    </tr>\n",
       "    <tr>\n",
       "      <th>25%</th>\n",
       "      <td>2890.500000</td>\n",
       "      <td>0.000000</td>\n",
       "      <td>161.200000</td>\n",
       "      <td>0.000000</td>\n",
       "    </tr>\n",
       "    <tr>\n",
       "      <th>50%</th>\n",
       "      <td>4850.000000</td>\n",
       "      <td>0.000000</td>\n",
       "      <td>258.000000</td>\n",
       "      <td>1.000000</td>\n",
       "    </tr>\n",
       "    <tr>\n",
       "      <th>75%</th>\n",
       "      <td>7157.000000</td>\n",
       "      <td>1.000000</td>\n",
       "      <td>426.000000</td>\n",
       "      <td>1.000000</td>\n",
       "    </tr>\n",
       "    <tr>\n",
       "      <th>max</th>\n",
       "      <td>9813.000000</td>\n",
       "      <td>1.000000</td>\n",
       "      <td>8046.300000</td>\n",
       "      <td>1.000000</td>\n",
       "    </tr>\n",
       "  </tbody>\n",
       "</table>\n",
       "</div>"
      ],
      "text/plain": [
       "        customer_id        gender         value  predicted_gender\n",
       "count  13471.000000  13471.000000  13471.000000      13471.000000\n",
       "mean    5033.693564      0.498256    357.322179          0.642788\n",
       "std     2500.179222      0.500016    387.210821          0.479196\n",
       "min     1000.000000      0.000000      0.000000          0.000000\n",
       "25%     2890.500000      0.000000    161.200000          0.000000\n",
       "50%     4850.000000      0.000000    258.000000          1.000000\n",
       "75%     7157.000000      1.000000    426.000000          1.000000\n",
       "max     9813.000000      1.000000   8046.300000          1.000000"
      ]
     },
     "execution_count": 5,
     "metadata": {},
     "output_type": "execute_result"
    }
   ],
   "source": [
    "orders_df.describe()"
   ]
  },
  {
   "cell_type": "markdown",
   "metadata": {},
   "source": [
    "## A)"
   ]
  },
  {
   "cell_type": "code",
   "execution_count": 6,
   "metadata": {},
   "outputs": [
    {
     "data": {
      "text/html": [
       "<div>\n",
       "<style scoped>\n",
       "    .dataframe tbody tr th:only-of-type {\n",
       "        vertical-align: middle;\n",
       "    }\n",
       "\n",
       "    .dataframe tbody tr th {\n",
       "        vertical-align: top;\n",
       "    }\n",
       "\n",
       "    .dataframe thead th {\n",
       "        text-align: right;\n",
       "    }\n",
       "</style>\n",
       "<table border=\"1\" class=\"dataframe\">\n",
       "  <thead>\n",
       "    <tr style=\"text-align: right;\">\n",
       "      <th></th>\n",
       "      <th>customer_id</th>\n",
       "      <th>gender</th>\n",
       "      <th>date</th>\n",
       "      <th>value</th>\n",
       "      <th>predicted_gender</th>\n",
       "      <th>most_recent_date</th>\n",
       "    </tr>\n",
       "  </thead>\n",
       "  <tbody>\n",
       "    <tr>\n",
       "      <th>0</th>\n",
       "      <td>1000</td>\n",
       "      <td>0</td>\n",
       "      <td>2017-01-01 00:11:31</td>\n",
       "      <td>198.5</td>\n",
       "      <td>1</td>\n",
       "      <td>2017-01-01 00:11:31</td>\n",
       "    </tr>\n",
       "    <tr>\n",
       "      <th>1</th>\n",
       "      <td>1001</td>\n",
       "      <td>0</td>\n",
       "      <td>2017-01-01 00:29:56</td>\n",
       "      <td>338.0</td>\n",
       "      <td>1</td>\n",
       "      <td>2017-01-01 00:29:56</td>\n",
       "    </tr>\n",
       "    <tr>\n",
       "      <th>2</th>\n",
       "      <td>1002</td>\n",
       "      <td>1</td>\n",
       "      <td>2017-01-01 01:30:31</td>\n",
       "      <td>733.0</td>\n",
       "      <td>1</td>\n",
       "      <td>2017-02-19 21:35:31</td>\n",
       "    </tr>\n",
       "    <tr>\n",
       "      <th>3</th>\n",
       "      <td>1003</td>\n",
       "      <td>1</td>\n",
       "      <td>2017-01-01 01:34:22</td>\n",
       "      <td>772.0</td>\n",
       "      <td>1</td>\n",
       "      <td>2017-04-26 02:37:20</td>\n",
       "    </tr>\n",
       "    <tr>\n",
       "      <th>4</th>\n",
       "      <td>1004</td>\n",
       "      <td>0</td>\n",
       "      <td>2017-01-01 03:11:54</td>\n",
       "      <td>508.0</td>\n",
       "      <td>1</td>\n",
       "      <td>2017-01-01 03:11:54</td>\n",
       "    </tr>\n",
       "  </tbody>\n",
       "</table>\n",
       "</div>"
      ],
      "text/plain": [
       "   customer_id  gender                date  value  predicted_gender  \\\n",
       "0         1000       0 2017-01-01 00:11:31  198.5                 1   \n",
       "1         1001       0 2017-01-01 00:29:56  338.0                 1   \n",
       "2         1002       1 2017-01-01 01:30:31  733.0                 1   \n",
       "3         1003       1 2017-01-01 01:34:22  772.0                 1   \n",
       "4         1004       0 2017-01-01 03:11:54  508.0                 1   \n",
       "\n",
       "     most_recent_date  \n",
       "0 2017-01-01 00:11:31  \n",
       "1 2017-01-01 00:29:56  \n",
       "2 2017-02-19 21:35:31  \n",
       "3 2017-04-26 02:37:20  \n",
       "4 2017-01-01 03:11:54  "
      ]
     },
     "execution_count": 6,
     "metadata": {},
     "output_type": "execute_result"
    }
   ],
   "source": [
    "orders_df['date'] = pd.to_datetime(orders_df['date'])\n",
    "orders_df['most_recent_date'] = orders_df.groupby(['customer_id']).date.transform('max')\n",
    "orders_df.head()"
   ]
  },
  {
   "cell_type": "code",
   "execution_count": 7,
   "metadata": {},
   "outputs": [
    {
     "data": {
      "text/html": [
       "<div>\n",
       "<style scoped>\n",
       "    .dataframe tbody tr th:only-of-type {\n",
       "        vertical-align: middle;\n",
       "    }\n",
       "\n",
       "    .dataframe tbody tr th {\n",
       "        vertical-align: top;\n",
       "    }\n",
       "\n",
       "    .dataframe thead th {\n",
       "        text-align: right;\n",
       "    }\n",
       "</style>\n",
       "<table border=\"1\" class=\"dataframe\">\n",
       "  <thead>\n",
       "    <tr style=\"text-align: right;\">\n",
       "      <th></th>\n",
       "      <th>customer_id</th>\n",
       "      <th>gender</th>\n",
       "      <th>date</th>\n",
       "      <th>value</th>\n",
       "      <th>predicted_gender</th>\n",
       "      <th>most_recent_date</th>\n",
       "      <th>order_count</th>\n",
       "    </tr>\n",
       "  </thead>\n",
       "  <tbody>\n",
       "    <tr>\n",
       "      <th>0</th>\n",
       "      <td>1000</td>\n",
       "      <td>0</td>\n",
       "      <td>2017-01-01 00:11:31</td>\n",
       "      <td>198.50</td>\n",
       "      <td>1</td>\n",
       "      <td>2017-01-01 00:11:31</td>\n",
       "      <td>1</td>\n",
       "    </tr>\n",
       "    <tr>\n",
       "      <th>1</th>\n",
       "      <td>1001</td>\n",
       "      <td>0</td>\n",
       "      <td>2017-01-01 00:29:56</td>\n",
       "      <td>338.00</td>\n",
       "      <td>1</td>\n",
       "      <td>2017-01-01 00:29:56</td>\n",
       "      <td>1</td>\n",
       "    </tr>\n",
       "    <tr>\n",
       "      <th>2</th>\n",
       "      <td>1002</td>\n",
       "      <td>1</td>\n",
       "      <td>2017-01-01 01:30:31</td>\n",
       "      <td>733.00</td>\n",
       "      <td>1</td>\n",
       "      <td>2017-02-19 21:35:31</td>\n",
       "      <td>3</td>\n",
       "    </tr>\n",
       "    <tr>\n",
       "      <th>3</th>\n",
       "      <td>1003</td>\n",
       "      <td>1</td>\n",
       "      <td>2017-01-01 01:34:22</td>\n",
       "      <td>772.00</td>\n",
       "      <td>1</td>\n",
       "      <td>2017-04-26 02:37:20</td>\n",
       "      <td>4</td>\n",
       "    </tr>\n",
       "    <tr>\n",
       "      <th>4</th>\n",
       "      <td>1004</td>\n",
       "      <td>0</td>\n",
       "      <td>2017-01-01 03:11:54</td>\n",
       "      <td>508.00</td>\n",
       "      <td>1</td>\n",
       "      <td>2017-01-01 03:11:54</td>\n",
       "      <td>1</td>\n",
       "    </tr>\n",
       "    <tr>\n",
       "      <th>5</th>\n",
       "      <td>1005</td>\n",
       "      <td>1</td>\n",
       "      <td>2017-01-01 10:08:05</td>\n",
       "      <td>338.00</td>\n",
       "      <td>0</td>\n",
       "      <td>2017-12-16 01:39:27</td>\n",
       "      <td>2</td>\n",
       "    </tr>\n",
       "    <tr>\n",
       "      <th>6</th>\n",
       "      <td>1006</td>\n",
       "      <td>1</td>\n",
       "      <td>2017-01-01 15:42:57</td>\n",
       "      <td>1526.43</td>\n",
       "      <td>1</td>\n",
       "      <td>2017-05-09 15:27:20</td>\n",
       "      <td>3</td>\n",
       "    </tr>\n",
       "    <tr>\n",
       "      <th>7</th>\n",
       "      <td>1007</td>\n",
       "      <td>0</td>\n",
       "      <td>2017-01-01 15:59:50</td>\n",
       "      <td>168.00</td>\n",
       "      <td>0</td>\n",
       "      <td>2017-01-01 15:59:50</td>\n",
       "      <td>1</td>\n",
       "    </tr>\n",
       "    <tr>\n",
       "      <th>8</th>\n",
       "      <td>1008</td>\n",
       "      <td>0</td>\n",
       "      <td>2017-01-01 18:01:04</td>\n",
       "      <td>207.99</td>\n",
       "      <td>0</td>\n",
       "      <td>2017-12-17 05:47:48</td>\n",
       "      <td>3</td>\n",
       "    </tr>\n",
       "    <tr>\n",
       "      <th>9</th>\n",
       "      <td>1009</td>\n",
       "      <td>1</td>\n",
       "      <td>2017-01-01 19:27:17</td>\n",
       "      <td>283.00</td>\n",
       "      <td>1</td>\n",
       "      <td>2017-01-01 19:27:17</td>\n",
       "      <td>1</td>\n",
       "    </tr>\n",
       "  </tbody>\n",
       "</table>\n",
       "</div>"
      ],
      "text/plain": [
       "   customer_id  gender                date    value  predicted_gender  \\\n",
       "0         1000       0 2017-01-01 00:11:31   198.50                 1   \n",
       "1         1001       0 2017-01-01 00:29:56   338.00                 1   \n",
       "2         1002       1 2017-01-01 01:30:31   733.00                 1   \n",
       "3         1003       1 2017-01-01 01:34:22   772.00                 1   \n",
       "4         1004       0 2017-01-01 03:11:54   508.00                 1   \n",
       "5         1005       1 2017-01-01 10:08:05   338.00                 0   \n",
       "6         1006       1 2017-01-01 15:42:57  1526.43                 1   \n",
       "7         1007       0 2017-01-01 15:59:50   168.00                 0   \n",
       "8         1008       0 2017-01-01 18:01:04   207.99                 0   \n",
       "9         1009       1 2017-01-01 19:27:17   283.00                 1   \n",
       "\n",
       "     most_recent_date  order_count  \n",
       "0 2017-01-01 00:11:31            1  \n",
       "1 2017-01-01 00:29:56            1  \n",
       "2 2017-02-19 21:35:31            3  \n",
       "3 2017-04-26 02:37:20            4  \n",
       "4 2017-01-01 03:11:54            1  \n",
       "5 2017-12-16 01:39:27            2  \n",
       "6 2017-05-09 15:27:20            3  \n",
       "7 2017-01-01 15:59:50            1  \n",
       "8 2017-12-17 05:47:48            3  \n",
       "9 2017-01-01 19:27:17            1  "
      ]
     },
     "execution_count": 7,
     "metadata": {},
     "output_type": "execute_result"
    }
   ],
   "source": [
    "orders_df['order_count']= orders_df.groupby(['customer_id']).date.transform('count')\n",
    "orders_df.head(10)"
   ]
  },
  {
   "cell_type": "code",
   "execution_count": 8,
   "metadata": {},
   "outputs": [
    {
     "data": {
      "text/html": [
       "<div>\n",
       "<style scoped>\n",
       "    .dataframe tbody tr th:only-of-type {\n",
       "        vertical-align: middle;\n",
       "    }\n",
       "\n",
       "    .dataframe tbody tr th {\n",
       "        vertical-align: top;\n",
       "    }\n",
       "\n",
       "    .dataframe thead th {\n",
       "        text-align: right;\n",
       "    }\n",
       "</style>\n",
       "<table border=\"1\" class=\"dataframe\">\n",
       "  <thead>\n",
       "    <tr style=\"text-align: right;\">\n",
       "      <th></th>\n",
       "      <th>customer_id</th>\n",
       "      <th>gender</th>\n",
       "      <th>date</th>\n",
       "      <th>value</th>\n",
       "      <th>predicted_gender</th>\n",
       "      <th>most_recent_date</th>\n",
       "      <th>order_count</th>\n",
       "    </tr>\n",
       "  </thead>\n",
       "  <tbody>\n",
       "    <tr>\n",
       "      <th>0</th>\n",
       "      <td>1000</td>\n",
       "      <td>0</td>\n",
       "      <td>2017-01-01 00:11:31</td>\n",
       "      <td>198.5</td>\n",
       "      <td>1</td>\n",
       "      <td>2017-01-01 00:11:31</td>\n",
       "      <td>1</td>\n",
       "    </tr>\n",
       "    <tr>\n",
       "      <th>1</th>\n",
       "      <td>1001</td>\n",
       "      <td>0</td>\n",
       "      <td>2017-01-01 00:29:56</td>\n",
       "      <td>338.0</td>\n",
       "      <td>1</td>\n",
       "      <td>2017-01-01 00:29:56</td>\n",
       "      <td>1</td>\n",
       "    </tr>\n",
       "    <tr>\n",
       "      <th>2</th>\n",
       "      <td>1002</td>\n",
       "      <td>1</td>\n",
       "      <td>2017-01-01 01:30:31</td>\n",
       "      <td>733.0</td>\n",
       "      <td>1</td>\n",
       "      <td>2017-02-19 21:35:31</td>\n",
       "      <td>3</td>\n",
       "    </tr>\n",
       "    <tr>\n",
       "      <th>1742</th>\n",
       "      <td>1002</td>\n",
       "      <td>1</td>\n",
       "      <td>2017-02-19 21:35:31</td>\n",
       "      <td>176.0</td>\n",
       "      <td>1</td>\n",
       "      <td>2017-02-19 21:35:31</td>\n",
       "      <td>3</td>\n",
       "    </tr>\n",
       "    <tr>\n",
       "      <th>928</th>\n",
       "      <td>1002</td>\n",
       "      <td>1</td>\n",
       "      <td>2017-01-23 04:33:38</td>\n",
       "      <td>148.6</td>\n",
       "      <td>1</td>\n",
       "      <td>2017-02-19 21:35:31</td>\n",
       "      <td>3</td>\n",
       "    </tr>\n",
       "    <tr>\n",
       "      <th>3</th>\n",
       "      <td>1003</td>\n",
       "      <td>1</td>\n",
       "      <td>2017-01-01 01:34:22</td>\n",
       "      <td>772.0</td>\n",
       "      <td>1</td>\n",
       "      <td>2017-04-26 02:37:20</td>\n",
       "      <td>4</td>\n",
       "    </tr>\n",
       "    <tr>\n",
       "      <th>676</th>\n",
       "      <td>1003</td>\n",
       "      <td>1</td>\n",
       "      <td>2017-01-20 05:56:10</td>\n",
       "      <td>425.5</td>\n",
       "      <td>1</td>\n",
       "      <td>2017-04-26 02:37:20</td>\n",
       "      <td>4</td>\n",
       "    </tr>\n",
       "    <tr>\n",
       "      <th>4292</th>\n",
       "      <td>1003</td>\n",
       "      <td>1</td>\n",
       "      <td>2017-04-25 09:54:54</td>\n",
       "      <td>0.0</td>\n",
       "      <td>1</td>\n",
       "      <td>2017-04-26 02:37:20</td>\n",
       "      <td>4</td>\n",
       "    </tr>\n",
       "    <tr>\n",
       "      <th>4323</th>\n",
       "      <td>1003</td>\n",
       "      <td>1</td>\n",
       "      <td>2017-04-26 02:37:20</td>\n",
       "      <td>704.0</td>\n",
       "      <td>1</td>\n",
       "      <td>2017-04-26 02:37:20</td>\n",
       "      <td>4</td>\n",
       "    </tr>\n",
       "    <tr>\n",
       "      <th>4</th>\n",
       "      <td>1004</td>\n",
       "      <td>0</td>\n",
       "      <td>2017-01-01 03:11:54</td>\n",
       "      <td>508.0</td>\n",
       "      <td>1</td>\n",
       "      <td>2017-01-01 03:11:54</td>\n",
       "      <td>1</td>\n",
       "    </tr>\n",
       "  </tbody>\n",
       "</table>\n",
       "</div>"
      ],
      "text/plain": [
       "      customer_id  gender                date  value  predicted_gender  \\\n",
       "0            1000       0 2017-01-01 00:11:31  198.5                 1   \n",
       "1            1001       0 2017-01-01 00:29:56  338.0                 1   \n",
       "2            1002       1 2017-01-01 01:30:31  733.0                 1   \n",
       "1742         1002       1 2017-02-19 21:35:31  176.0                 1   \n",
       "928          1002       1 2017-01-23 04:33:38  148.6                 1   \n",
       "3            1003       1 2017-01-01 01:34:22  772.0                 1   \n",
       "676          1003       1 2017-01-20 05:56:10  425.5                 1   \n",
       "4292         1003       1 2017-04-25 09:54:54    0.0                 1   \n",
       "4323         1003       1 2017-04-26 02:37:20  704.0                 1   \n",
       "4            1004       0 2017-01-01 03:11:54  508.0                 1   \n",
       "\n",
       "        most_recent_date  order_count  \n",
       "0    2017-01-01 00:11:31            1  \n",
       "1    2017-01-01 00:29:56            1  \n",
       "2    2017-02-19 21:35:31            3  \n",
       "1742 2017-02-19 21:35:31            3  \n",
       "928  2017-02-19 21:35:31            3  \n",
       "3    2017-04-26 02:37:20            4  \n",
       "676  2017-04-26 02:37:20            4  \n",
       "4292 2017-04-26 02:37:20            4  \n",
       "4323 2017-04-26 02:37:20            4  \n",
       "4    2017-01-01 03:11:54            1  "
      ]
     },
     "execution_count": 8,
     "metadata": {},
     "output_type": "execute_result"
    }
   ],
   "source": [
    "orders_df.sort_values(by=['customer_id']).head(10)"
   ]
  },
  {
   "cell_type": "markdown",
   "metadata": {},
   "source": [
    "## B)"
   ]
  },
  {
   "cell_type": "code",
   "execution_count": 9,
   "metadata": {},
   "outputs": [
    {
     "data": {
      "image/png": "[encoded data removed]",
      "text/plain": [
       "<Figure size 720x360 with 1 Axes>"
      ]
     },
     "metadata": {
      "needs_background": "light"
     },
     "output_type": "display_data"
    }
   ],
   "source": [
    "_ = plt.figure(figsize=(10,5))\n",
    "_ = plt.plot(orders_df.groupby(orders_df.date.dt.weekofyear)['value'].count())\n",
    "_ = plt.title('Count of Order per Week')\n",
    "_ = plt.xlabel('Week Number')\n",
    "_ = plt.ylabel('Order Count')"
   ]
  },
  {
   "cell_type": "markdown",
   "metadata": {},
   "source": [
    "## C)"
   ]
  },
  {
   "cell_type": "code",
   "execution_count": 10,
   "metadata": {},
   "outputs": [
    {
     "name": "stdout",
     "output_type": "stream",
     "text": [
      "Mean order value for gender 0 is 363.89\n",
      "Mean order value for gender 1 is 350.71\n"
     ]
    }
   ],
   "source": [
    "mean_g0 = orders_df.groupby('gender')['value'].mean()[0]\n",
    "mean_g1 = orders_df.groupby('gender')['value'].mean()[1]\n",
    "\n",
    "print('Mean order value for gender 0 is {}'.format(round(mean_g0, 2)))\n",
    "print('Mean order value for gender 1 is {}'.format(round(mean_g1, 2)))"
   ]
  },
  {
   "cell_type": "code",
   "execution_count": 11,
   "metadata": {},
   "outputs": [
    {
     "name": "stdout",
     "output_type": "stream",
     "text": [
      "The t-value is 1.976\n",
      "The p-value is 0.0482\n"
     ]
    }
   ],
   "source": [
    "N = (orders_df['customer_id'].count())/2\n",
    "var_g0 = orders_df.groupby('gender')['value'].var(ddof=1)[0]\n",
    "var_g1 = orders_df.groupby('gender')['value'].var(ddof=1)[1]\n",
    "s = np.sqrt((var_g0 + var_g1)/2)\n",
    "t = (mean_g0 - mean_g1)/(s*np.sqrt(2/N))\n",
    "print('The t-value is {}'.format(round(t,4)))\n",
    "df = 2*N - 2\n",
    "p = 1 - stats.t.cdf(t,df=df)\n",
    "p = 2*p\n",
    "print('The p-value is {}'.format(round(p,4)))"
   ]
  },
  {
   "cell_type": "markdown",
   "metadata": {},
   "source": [
    "Yielding a p-value under 0.05 we can reject the initial null hypothesis that there is a statistical significance in the difference between the order values of gender 0 and gender 1."
   ]
  },
  {
   "cell_type": "markdown",
   "metadata": {},
   "source": [
    "## D)"
   ]
  },
  {
   "cell_type": "code",
   "execution_count": 12,
   "metadata": {},
   "outputs": [
    {
     "data": {
      "text/plain": [
       "array([[3349, 3410],\n",
       "       [1463, 5249]])"
      ]
     },
     "execution_count": 12,
     "metadata": {},
     "output_type": "execute_result"
    }
   ],
   "source": [
    "y = orders_df['gender']\n",
    "y_pred = orders_df['predicted_gender']\n",
    "gender_cm = confusion_matrix(y, y_pred)\n",
    "gender_cm"
   ]
  },
  {
   "cell_type": "code",
   "execution_count": 13,
   "metadata": {},
   "outputs": [
    {
     "name": "stdout",
     "output_type": "stream",
     "text": [
      "Predicted Gender Accuracy Percentage 63.83 %\n"
     ]
    }
   ],
   "source": [
    "acc = accuracy_score(y, y_pred)\n",
    "print('Predicted Gender Accuracy Percentage {} %'.format(round(acc * 100, 2)))"
   ]
  },
  {
   "cell_type": "code",
   "execution_count": 14,
   "metadata": {},
   "outputs": [
    {
     "name": "stdout",
     "output_type": "stream",
     "text": [
      "Predicted Gender Classification Report : \n",
      "               precision    recall  f1-score   support\n",
      "\n",
      "           0       0.70      0.50      0.58      6759\n",
      "           1       0.61      0.78      0.68      6712\n",
      "\n",
      "    accuracy                           0.64     13471\n",
      "   macro avg       0.65      0.64      0.63     13471\n",
      "weighted avg       0.65      0.64      0.63     13471\n",
      "\n"
     ]
    }
   ],
   "source": [
    "gender_rep = classification_report(y, y_pred)\n",
    "print('Predicted Gender Classification Report : \\n' ,classification_report(y, y_pred))"
   ]
  },
  {
   "cell_type": "markdown",
   "metadata": {},
   "source": [
    "The confusion matrix above validates that the gender predictions made are not very accurate. With an accuracy of 63.83 percent, roughly every third prediction made orders in the dataset are incorrect. None of the precision, recall, or f-1 scores are not particularly any better either. "
   ]
  },
  {
   "cell_type": "markdown",
   "metadata": {},
   "source": [
    "## E)"
   ]
  },
  {
   "cell_type": "markdown",
   "metadata": {},
   "source": [
    "One of my favourite machine learning tools to use currently is Keras with TensorFlow backend. The flexibility of building custom neural networks using a combination of both Keras and TensorFlow has often given me the freedom to approach problems with the simplicity and modularity of Keras while also having the core strengths of TensorFlow available for greater control. The combination of two was particularly helpful to me while working on my second Capstone Project based on the Stanford Car Dataset. Importing a pre-trained model for image classification, I then began unfreezing layers of the neural network to have more trainable variables yielding a high accuracy and precision in identifying the make, model, body style, and year of vehicles in images. "
   ]
  }
 ],
 "metadata": {
  "kernelspec": {
   "display_name": "Python 3",
   "language": "python",
   "name": "python3"
  },
  "language_info": {
   "codemirror_mode": {
    "name": "ipython",
    "version": 3
   },
   "file_extension": ".py",
   "mimetype": "text/x-python",
   "name": "python",
   "nbconvert_exporter": "python",
   "pygments_lexer": "ipython3",
   "version": "3.7.7"
  }
 },
 "nbformat": 4,
 "nbformat_minor": 4
}
